{
 "cells": [
  {
   "cell_type": "code",
   "execution_count": 6,
   "metadata": {},
   "outputs": [],
   "source": [
    "# Exercice 1\n",
    "\n",
    "# initialaisation de la variable c\n",
    "\n",
    "c = \"X44bf38j23jdjgfjh737nei47\"\n"
   ]
  },
  {
   "cell_type": "code",
   "execution_count": 160,
   "metadata": {},
   "outputs": [
    {
     "name": "stdout",
     "output_type": "stream",
     "text": [
      "Result: Xbfjjdjgfjhnei\n",
      "Result: 44382373747\n"
     ]
    }
   ],
   "source": [
    "# programme qui construit deux chaînes de caractères c_alpha et c_num\n",
    "\n",
    "c_alpha, c_num = \"\", \"\"\n",
    "for i in c:\n",
    "    if i.isalpha():\n",
    "        c_alpha = \"\".join([c_alpha, i])\n",
    "    elif i.isdigit():\n",
    "        c_num = \"\".join([c_num, i])\n",
    "    \n",
    "print(\"Result:\",c_alpha)\n",
    "print(\"Result:\",c_num)\n"
   ]
  },
  {
   "cell_type": "code",
   "execution_count": 167,
   "metadata": {},
   "outputs": [
    {
     "data": {
      "text/plain": [
       "True"
      ]
     },
     "execution_count": 167,
     "metadata": {},
     "output_type": "execute_result"
    }
   ],
   "source": [
    "# Détermine si la sous-chaîne j23 apparaît dans votre chaîne\n",
    "\n",
    "'j23' in c"
   ]
  },
  {
   "cell_type": "code",
   "execution_count": 169,
   "metadata": {},
   "outputs": [
    {
     "data": {
      "text/plain": [
       "'X44bf38j24jdjgfjh737nei47'"
      ]
     },
     "execution_count": 169,
     "metadata": {},
     "output_type": "execute_result"
    }
   ],
   "source": [
    "# remplace j23 par j24\n",
    "\n",
    "c=c.replace(\"j23\",\"j24\")\n",
    "\n"
   ]
  },
  {
   "cell_type": "code",
   "execution_count": 170,
   "metadata": {},
   "outputs": [
    {
     "data": {
      "text/plain": [
       "'X44bf38j24jdjgfjh737nei47'"
      ]
     },
     "execution_count": 170,
     "metadata": {},
     "output_type": "execute_result"
    }
   ],
   "source": [
    "# En une seule fonction\n",
    "\n",
    "def verify_replace(string):\n",
    "    if (string.find('j23')):\n",
    "        string =string.replace('j23','j24')\n",
    "    return string\n",
    "verify_replace(c)"
   ]
  },
  {
   "cell_type": "code",
   "execution_count": 81,
   "metadata": {},
   "outputs": [],
   "source": [
    "x=c.find('f')\n",
    "y=c.find('3')\n",
    "z=c.find('7')"
   ]
  },
  {
   "cell_type": "code",
   "execution_count": 82,
   "metadata": {},
   "outputs": [
    {
     "name": "stdout",
     "output_type": "stream",
     "text": [
      "f37 est une sous-chaine croissante\n"
     ]
    }
   ],
   "source": [
    "# Détermine si la sous-chaîne f37 apparaît dans votre chaîne\n",
    "\n",
    "if x<y and y<z:\n",
    "    print(\"f37 est une sous-chaine croissante\")\n",
    "else:\n",
    "    print(\"f37 n'est pas  sous-chaine croissante\")"
   ]
  },
  {
   "cell_type": "code",
   "execution_count": 83,
   "metadata": {},
   "outputs": [],
   "source": [
    "# Exercice 2\n",
    "\n",
    "# initialisation de la variable texte\n",
    "\n",
    "texte = \"We introduce here the Python language\""
   ]
  },
  {
   "cell_type": "code",
   "execution_count": 84,
   "metadata": {},
   "outputs": [
    {
     "data": {
      "text/plain": [
       "37"
      ]
     },
     "execution_count": 84,
     "metadata": {},
     "output_type": "execute_result"
    }
   ],
   "source": [
    "len(texte)"
   ]
  },
  {
   "cell_type": "code",
   "execution_count": 138,
   "metadata": {},
   "outputs": [
    {
     "data": {
      "text/plain": [
       "37"
      ]
     },
     "execution_count": 138,
     "metadata": {},
     "output_type": "execute_result"
    }
   ],
   "source": [
    "# compte le nombre de caractère\n",
    "\n",
    "compteur= 0\n",
    "for i in texte:\n",
    "    compteur = compteur+1\n",
    "compteur"
   ]
  },
  {
   "cell_type": "code",
   "execution_count": 87,
   "metadata": {},
   "outputs": [
    {
     "data": {
      "text/plain": [
       "32"
      ]
     },
     "execution_count": 87,
     "metadata": {},
     "output_type": "execute_result"
    }
   ],
   "source": [
    "# compte le nombre de caractères de cette chaîne qui ne sont pas des espaces\n",
    "\n",
    "compteur = 0\n",
    "for i in texte:\n",
    "    if i !=\" \":\n",
    "        compteur=compteur+1\n",
    "compteur"
   ]
  },
  {
   "cell_type": "code",
   "execution_count": 89,
   "metadata": {},
   "outputs": [
    {
     "data": {
      "text/plain": [
       "6"
      ]
     },
     "execution_count": 89,
     "metadata": {},
     "output_type": "execute_result"
    }
   ],
   "source": [
    "# Sachant que dans cette chaîne de caractères, les mots sont séparés par des espaces, créez un script qui compte le nombre de mots de cette chaînecompteur = 1\n",
    "\n",
    "for i in texte:\n",
    "    if i ==\" \":\n",
    "        compteur=compteur+1\n",
    "compteur\n",
    "# où\n",
    "len(texte.split())"
   ]
  },
  {
   "cell_type": "code",
   "execution_count": 91,
   "metadata": {},
   "outputs": [],
   "source": [
    "texte2 = \"We introduce here the Python language. To learn more about the language, consider going through the excellent tutorial https://docs.python.org/tutorial. Dedicated books are also available, such as http://www. diveintopython.net/.\""
   ]
  },
  {
   "cell_type": "code",
   "execution_count": 92,
   "metadata": {},
   "outputs": [
    {
     "data": {
      "text/plain": [
       "26"
      ]
     },
     "execution_count": 92,
     "metadata": {},
     "output_type": "execute_result"
    }
   ],
   "source": [
    "compteur=1\n",
    "for i in texte2:\n",
    "    if i ==\" \":\n",
    "        compteur=compteur+1\n",
    "compteur"
   ]
  },
  {
   "cell_type": "code",
   "execution_count": 94,
   "metadata": {},
   "outputs": [
    {
     "data": {
      "text/plain": [
       "26"
      ]
     },
     "execution_count": 94,
     "metadata": {},
     "output_type": "execute_result"
    }
   ],
   "source": [
    "a=len(texte2.split())\n",
    "a"
   ]
  },
  {
   "cell_type": "code",
   "execution_count": 95,
   "metadata": {},
   "outputs": [],
   "source": []
  },
  {
   "cell_type": "code",
   "execution_count": 181,
   "metadata": {},
   "outputs": [
    {
     "name": "stdout",
     "output_type": "stream",
     "text": [
      "Please enter a string: \n",
      "paul\n",
      "Please enter a string: \n",
      "jules\n",
      "Please enter a string: \n",
      "gautier\n"
     ]
    },
    {
     "data": {
      "text/plain": [
       "['paul', 'jules', 'gautier']"
      ]
     },
     "execution_count": 181,
     "metadata": {},
     "output_type": "execute_result"
    }
   ],
   "source": [
    "# Exercice 3\n",
    "\n",
    "# Demander à l’utilisateur d’entrer trois mots à la suite,puis renvoie les trois mots triés par ordre alphabétique dans une liste.\n",
    "a = input(\"Please enter a string: \\n\")\n",
    "b = input(\"Please enter a string: \\n\")\n",
    "c = input(\"Please enter a string: \\n\")\n",
    "l=[a,b,c]\n",
    "l"
   ]
  },
  {
   "cell_type": "code",
   "execution_count": 186,
   "metadata": {},
   "outputs": [
    {
     "data": {
      "text/plain": [
       "[]"
      ]
     },
     "execution_count": 186,
     "metadata": {},
     "output_type": "execute_result"
    }
   ],
   "source": [
    "# faire le tri\n",
    "l.sort()\n",
    "l"
   ]
  },
  {
   "cell_type": "code",
   "execution_count": null,
   "metadata": {},
   "outputs": [],
   "source": [
    "#L’utilisateur puisse entrer autant de mots qu’il le souhaite. Le processus de saisie s’arrête lorsque l’utilisateur entre le mot “FIN”.\n",
    "\n",
    "a=0\n",
    "word=\"\"\n",
    "l=[]\n",
    "while a<3:\n",
    "    word= input(\"Please enter a string: \\n\")\n",
    "    if word== \"fin\":\n",
    "        break\n",
    "    l.append(word)\n",
    "    l.sort()\n",
    "print(l)\n",
    "\n"
   ]
  },
  {
   "cell_type": "code",
   "execution_count": 183,
   "metadata": {},
   "outputs": [
    {
     "name": "stdout",
     "output_type": "stream",
     "text": [
      "[]\n"
     ]
    }
   ],
   "source": [
    "\n",
    "while x:\n",
    "    word= input(\"Please enter a string: \\n\")\n",
    "    if word== \"fin\":\n",
    "        break\n",
    "    l.append(word)\n",
    "    l.sort()\n",
    "print(l)"
   ]
  },
  {
   "cell_type": "code",
   "execution_count": 165,
   "metadata": {},
   "outputs": [
    {
     "name": "stdout",
     "output_type": "stream",
     "text": [
      "['2Pique', '2Trefle', '2Carreau', '2Coeur', '3Pique', '3Trefle', '3Carreau', '3Coeur', '4Pique', '4Trefle', '4Carreau', '4Coeur', '5Pique', '5Trefle', '5Carreau', '5Coeur', '6Pique', '6Trefle', '6Carreau', '6Coeur', '7Pique', '7Trefle', '7Carreau', '7Coeur', '8Pique', '8Trefle', '8Carreau', '8Coeur', '9Pique', '9Trefle', '9Carreau', '9Coeur', '10Pique', '10Trefle', '10Carreau', '10Coeur', 'valetPique', 'valetTrefle', 'valetCarreau', 'valetCoeur', 'damePique', 'dameTrefle', 'dameCarreau', 'dameCoeur', 'roiPique', 'roiTrefle', 'roiCarreau', 'roiCoeur', 'asPique', 'asTrefle', 'asCarreau', 'asCoeur']\n",
      "52\n"
     ]
    }
   ],
   "source": [
    "# Exercice 4\n",
    "\n",
    "# 1- génerer les 52 cartes \n",
    "\n",
    "valeurs = [\"2\", \"3\", \"4\", \"5\", \"6\", \"7\", \"8\", \"9\",\"10\",\"valet\",\"dame\",\"roi\",\"as\"]\n",
    "Couleurs = [\"Pique\",\"Trefle\",\"Carreau\",\"Coeur\"]\n",
    "cartes=[i+j for i in valeurs for j in Couleurs ]\n",
    "print(cartes)\n",
    "\n",
    "len(cartes)\n",
    "\n",
    "#où\n",
    "\n",
    "cartes2=[]\n",
    "for i in valeurs:\n",
    "    for j in Couleurs :\n",
    "        cartes2.append(str(i) + \"De\" + str(j))\n",
    "print(len(cartes2))\n"
   ]
  },
  {
   "cell_type": "code",
   "execution_count": 166,
   "metadata": {
    "scrolled": true
   },
   "outputs": [
    {
     "name": "stdout",
     "output_type": "stream",
     "text": [
      "['8DeCarreau', '6DeCarreau', '8DeCoeur', '5DeCarreau', '2DeCoeur', '3DePique', 'valetDePique', 'asDeCarreau', '7DeTrefle', '4DePique', '5DeCoeur', 'asDeCoeur', '3DeCarreau', '7DeCoeur', '10DePique', '4DeTrefle', '8DeTrefle', 'roiDePique', 'roiDeCarreau', 'dameDeCoeur', '7DeCarreau', 'valetDeCoeur', 'roiDeCoeur', '6DeTrefle', '3DeTrefle', 'asDeTrefle', '2DeTrefle', 'roiDeTrefle', '4DeCarreau', '5DePique', '2DePique', '2DeCarreau', '4DeCoeur', 'dameDeCarreau', '9DeTrefle', '10DeCarreau', '10DeTrefle', '6DePique', '9DeCoeur', 'valetDeCarreau', '5DeTrefle', '6DeCoeur', '3DeCoeur', 'dameDePique', '9DePique', '8DePique', '10DeCoeur', 'dameDeTrefle', 'valetDeTrefle', '7DePique', '9DeCarreau', 'asDePique']\n"
     ]
    }
   ],
   "source": [
    "# 2- Mélangez alors la liste de vos cartes.\n",
    "\n",
    "from random import shuffle\n",
    "shuffle(cartes2)\n",
    "print(cartes2)"
   ]
  },
  {
   "cell_type": "code",
   "execution_count": 176,
   "metadata": {},
   "outputs": [
    {
     "name": "stdout",
     "output_type": "stream",
     "text": [
      "['8DeCarreau', '2DeCoeur', '7DeTrefle', '3DeCarreau', '8DeTrefle', '7DeCarreau', '3DeTrefle', '4DeCarreau', '4DeCoeur', '10DeTrefle', '5DeTrefle', '9DePique', 'valetDeTrefle'] ['6DeCarreau', '3DePique', '4DePique', '7DeCoeur', 'roiDePique', 'valetDeCoeur', 'asDeTrefle', '5DePique', 'dameDeCarreau', '6DePique', '6DeCoeur', '8DePique', '7DePique'] ['8DeCoeur', 'valetDePique', '5DeCoeur', '10DePique', 'roiDeCarreau', 'roiDeCoeur', '2DeTrefle', '2DePique', '9DeTrefle', '9DeCoeur', '3DeCoeur', '10DeCoeur', '9DeCarreau'] ['5DeCarreau', 'asDeCarreau', 'asDeCoeur', '4DeTrefle', 'dameDeCoeur', '6DeTrefle', 'roiDeTrefle', '2DeCarreau', '10DeCarreau', 'valetDeCarreau', 'dameDePique', 'dameDeTrefle', 'asDePique']\n"
     ]
    }
   ],
   "source": [
    "#listes joueur1, joueur2, joueur3 et joueur4\n",
    "\n",
    "joueur1=[]\n",
    "joueur2=[]\n",
    "joueur3=[]\n",
    "joueur4=[]\n",
    "i=0\n",
    "\n",
    "while i<len(cartes2):\n",
    "    if i % 4 == 0:\n",
    "        joueur1.append(cartes2[i])\n",
    "    elif i % 4 == 1:\n",
    "        joueur2.append(cartes2[i])\n",
    "    elif i % 4 == 2:\n",
    "        joueur3.append(cartes2[i])\n",
    "    else :\n",
    "        joueur4.append(cartes2[i])\n",
    "    i+=1\n",
    "print(joueur1,joueur2,joueur3,joueur4)\n"
   ]
  }
 ],
 "metadata": {
  "kernelspec": {
   "display_name": "Python 3",
   "language": "python",
   "name": "python3"
  },
  "language_info": {
   "codemirror_mode": {
    "name": "ipython",
    "version": 3
   },
   "file_extension": ".py",
   "mimetype": "text/x-python",
   "name": "python",
   "nbconvert_exporter": "python",
   "pygments_lexer": "ipython3",
   "version": "3.8.6"
  }
 },
 "nbformat": 4,
 "nbformat_minor": 4
}
