{
 "cells": [
  {
   "cell_type": "code",
   "execution_count": 34,
   "metadata": {},
   "outputs": [
    {
     "name": "stdout",
     "output_type": "stream",
     "text": [
      "3\n"
     ]
    }
   ],
   "source": [
    "# 1- Écrire un algorithme permettant d’échanger les valeurs de deux variables A et B.\n",
    "A=2\n",
    "B=3\n",
    "temp=A\n",
    "A=B\n",
    "B=temp\n",
    "print(A)"
   ]
  },
  {
   "cell_type": "code",
   "execution_count": 7,
   "metadata": {},
   "outputs": [
    {
     "name": "stdout",
     "output_type": "stream",
     "text": [
      "Entrer le nombre: 4\n",
      "Le carré du nombre :  4  est : 16\n"
     ]
    }
   ],
   "source": [
    "# 2- Écrire un programme qui demande un nombre à l’utilisateur, puis qui calcule et affiche le carré de ce nombre.\n",
    "n = int(input(\"Entrer le nombre: \"))\n",
    "c = n**2\n",
    "print(\"Le carré du nombre : \", n,\" est :\" ,c)\n"
   ]
  },
  {
   "cell_type": "code",
   "execution_count": 8,
   "metadata": {},
   "outputs": [
    {
     "name": "stdout",
     "output_type": "stream",
     "text": [
      "Entrer le nombre: -2\n",
      "Ce nombre est négatif\n"
     ]
    }
   ],
   "source": [
    "# 3- Écrire un algorithme qui demande un nombre à l’utilisateur, et l’informe ensuite si ce nombre est positif ou négatif\n",
    "n = int(input(\"Entrer le nombre: \"))\n",
    "if n >0:\n",
    "    print(\"Ce nombre est positif\")\n",
    "else:\n",
    "    print(\"Ce nombre est négatif\")"
   ]
  },
  {
   "cell_type": "code",
   "execution_count": 12,
   "metadata": {},
   "outputs": [
    {
     "name": "stdout",
     "output_type": "stream",
     "text": [
      "Entrer le nombre a: -2\n",
      "Entrer le nombre b: -2\n",
      "Leur produit est positif\n"
     ]
    }
   ],
   "source": [
    "# 4- Écrire un algorithme qui demande deux nombres à l’utilisateur et l’informe ensuite si leur produit est négatif ou positif\n",
    "\n",
    "a= int(input(\"Entrer le nombre a: \"))\n",
    "b= int(input(\"Entrer le nombre b: \"))\n",
    "if (a > 0 and b > 0) or (a < 0 and b < 0):\n",
    "    print(\"Leur produit est positif\")\n",
    "else:\n",
    "    print(\"Leur produit est négatif\")"
   ]
  },
  {
   "cell_type": "code",
   "execution_count": 21,
   "metadata": {},
   "outputs": [
    {
     "name": "stdout",
     "output_type": "stream",
     "text": [
      "Entrer un nombre 17\n",
      "18\n",
      "19\n",
      "20\n",
      "21\n",
      "22\n",
      "23\n",
      "24\n",
      "25\n",
      "26\n",
      "27\n"
     ]
    }
   ],
   "source": [
    "# 5- Écrire un algorithme qui demande un nombre de départ, et qui ensuite affiche les dix nombres suivants.\n",
    "\n",
    "Nb=int(input(\"Entrer un nombre \")) \n",
    "for i in range(Nb+1,Nb+11) :\n",
    "    print(i)"
   ]
  },
  {
   "cell_type": "code",
   "execution_count": 74,
   "metadata": {},
   "outputs": [
    {
     "name": "stdout",
     "output_type": "stream",
     "text": [
      "Entrer un nombre 5\n",
      "15\n"
     ]
    }
   ],
   "source": [
    "#Écrire un algorithme qui demande un nombre de départ, et qui calcule la somme des entiers jusqu'à ce nombre.\n",
    "\n",
    "N=int(input(\"Entrer un nombre \")) \n",
    "som=0\n",
    "for i in range(0,N+1):\n",
    "    som=som+i\n",
    "print(som)\n",
    "\n"
   ]
  },
  {
   "cell_type": "code",
   "execution_count": 75,
   "metadata": {},
   "outputs": [
    {
     "name": "stdout",
     "output_type": "stream",
     "text": [
      "    ord_no  purch_amt    ord_date  customer_id  salesman_id\n",
      "0    70001     150.50  05-10-2012         3001         5002\n",
      "1    70009     270.65  09-10-2012         3001         5005\n",
      "2    70002      65.26  05-10-2012         3005         5001\n",
      "3    70004     110.50  06-10-2012         3001         5003\n",
      "4    70007     948.50  10-09-2012         3005         5002\n",
      "5    70005    2400.60  10-09-2012         3001         5001\n",
      "6    70008    5760.00  10-09-2012         3005         5001\n",
      "7    70010    1983.43  10-10-2012         3001         5006\n",
      "8    70003    2480.40  10-10-2012         3005         5003\n",
      "9    70012     250.45  17-06-2012         3001         5002\n",
      "10   70011      75.29  07-08-2012         3005         5007\n",
      "11   70013    3045.60  08-08-2012         3005         5001\n"
     ]
    },
    {
     "data": {
      "text/plain": [
       "ord_no         70013.0\n",
       "purch_amt       5760.0\n",
       "customer_id     3005.0\n",
       "salesman_id     5007.0\n",
       "Name: max, dtype: float64"
      ]
     },
     "execution_count": 75,
     "metadata": {},
     "output_type": "execute_result"
    }
   ],
   "source": [
    "# Pandas \n",
    "\n",
    "# 1- Récupérez le csv fournit, le lire et le stocker dans une variable sous format dataframe. \n",
    "\n",
    "import pandas as pd\n",
    "import numpy as np\n",
    "data=pd.read_csv(\"Pandas_exercice.csv\", sep=\",\")\n",
    "print(data)\n",
    "# Afficher ensuite le max de chaque colonne (quand c’est possible).\n",
    "\n",
    "def max(data):\n",
    "    return data.describe().loc['max']\n",
    "max(data)"
   ]
  },
  {
   "cell_type": "code",
   "execution_count": 92,
   "metadata": {},
   "outputs": [
    {
     "data": {
      "text/plain": [
       "17541.18"
      ]
     },
     "execution_count": 92,
     "metadata": {},
     "output_type": "execute_result"
    }
   ],
   "source": [
    "# 2- Créer une fonction qui permet de calculer le total de la variable purch_amt\n",
    "\n",
    "def sum (df,column):\n",
    "    df.sort_values(by='customer_id')\n",
    "    return  df[column].sum() \n",
    "sum(data,'purch_amt')"
   ]
  },
  {
   "cell_type": "code",
   "execution_count": 140,
   "metadata": {},
   "outputs": [
    {
     "name": "stderr",
     "output_type": "stream",
     "text": [
      "/opt/conda/lib/python3.8/site-packages/pandas/core/indexing.py:670: SettingWithCopyWarning: \n",
      "A value is trying to be set on a copy of a slice from a DataFrame\n",
      "\n",
      "See the caveats in the documentation: https://pandas.pydata.org/pandas-docs/stable/user_guide/indexing.html#returning-a-view-versus-a-copy\n",
      "  iloc._setitem_with_indexer(indexer, value)\n"
     ]
    },
    {
     "data": {
      "text/html": [
       "<div>\n",
       "<style scoped>\n",
       "    .dataframe tbody tr th:only-of-type {\n",
       "        vertical-align: middle;\n",
       "    }\n",
       "\n",
       "    .dataframe tbody tr th {\n",
       "        vertical-align: top;\n",
       "    }\n",
       "\n",
       "    .dataframe thead th {\n",
       "        text-align: right;\n",
       "    }\n",
       "</style>\n",
       "<table border=\"1\" class=\"dataframe\">\n",
       "  <thead>\n",
       "    <tr style=\"text-align: right;\">\n",
       "      <th></th>\n",
       "      <th>ord_no</th>\n",
       "      <th>purch_amt</th>\n",
       "      <th>ord_date</th>\n",
       "      <th>customer_id</th>\n",
       "      <th>salesman_id</th>\n",
       "    </tr>\n",
       "  </thead>\n",
       "  <tbody>\n",
       "    <tr>\n",
       "      <th>6</th>\n",
       "      <td>70008</td>\n",
       "      <td>5760.00</td>\n",
       "      <td>10-09-2012</td>\n",
       "      <td>3005</td>\n",
       "      <td>5001</td>\n",
       "    </tr>\n",
       "    <tr>\n",
       "      <th>11</th>\n",
       "      <td>70013</td>\n",
       "      <td>3045.60</td>\n",
       "      <td>08-08-2012</td>\n",
       "      <td>3005</td>\n",
       "      <td>5001</td>\n",
       "    </tr>\n",
       "    <tr>\n",
       "      <th>8</th>\n",
       "      <td>70003</td>\n",
       "      <td>2480.40</td>\n",
       "      <td>10-10-2012</td>\n",
       "      <td>3005</td>\n",
       "      <td>5003</td>\n",
       "    </tr>\n",
       "    <tr>\n",
       "      <th>5</th>\n",
       "      <td>70005</td>\n",
       "      <td>2400.60</td>\n",
       "      <td>10-09-2012</td>\n",
       "      <td>3001</td>\n",
       "      <td>5001</td>\n",
       "    </tr>\n",
       "    <tr>\n",
       "      <th>7</th>\n",
       "      <td>70010</td>\n",
       "      <td>1983.43</td>\n",
       "      <td>10-10-2012</td>\n",
       "      <td>3001</td>\n",
       "      <td>5006</td>\n",
       "    </tr>\n",
       "    <tr>\n",
       "      <th>4</th>\n",
       "      <td>70007</td>\n",
       "      <td>948.50</td>\n",
       "      <td>10-09-2012</td>\n",
       "      <td>3005</td>\n",
       "      <td>5002</td>\n",
       "    </tr>\n",
       "    <tr>\n",
       "      <th>0</th>\n",
       "      <td>70001</td>\n",
       "      <td>NaN</td>\n",
       "      <td>05-10-2012</td>\n",
       "      <td>3001</td>\n",
       "      <td>5002</td>\n",
       "    </tr>\n",
       "    <tr>\n",
       "      <th>1</th>\n",
       "      <td>70009</td>\n",
       "      <td>NaN</td>\n",
       "      <td>09-10-2012</td>\n",
       "      <td>3001</td>\n",
       "      <td>5005</td>\n",
       "    </tr>\n",
       "    <tr>\n",
       "      <th>2</th>\n",
       "      <td>70002</td>\n",
       "      <td>NaN</td>\n",
       "      <td>05-10-2012</td>\n",
       "      <td>3005</td>\n",
       "      <td>5001</td>\n",
       "    </tr>\n",
       "    <tr>\n",
       "      <th>3</th>\n",
       "      <td>70004</td>\n",
       "      <td>NaN</td>\n",
       "      <td>06-10-2012</td>\n",
       "      <td>3001</td>\n",
       "      <td>5003</td>\n",
       "    </tr>\n",
       "    <tr>\n",
       "      <th>9</th>\n",
       "      <td>70012</td>\n",
       "      <td>NaN</td>\n",
       "      <td>17-06-2012</td>\n",
       "      <td>3001</td>\n",
       "      <td>5002</td>\n",
       "    </tr>\n",
       "    <tr>\n",
       "      <th>10</th>\n",
       "      <td>70011</td>\n",
       "      <td>NaN</td>\n",
       "      <td>07-08-2012</td>\n",
       "      <td>3005</td>\n",
       "      <td>5007</td>\n",
       "    </tr>\n",
       "  </tbody>\n",
       "</table>\n",
       "</div>"
      ],
      "text/plain": [
       "    ord_no  purch_amt    ord_date  customer_id  salesman_id\n",
       "6    70008    5760.00  10-09-2012         3005         5001\n",
       "11   70013    3045.60  08-08-2012         3005         5001\n",
       "8    70003    2480.40  10-10-2012         3005         5003\n",
       "5    70005    2400.60  10-09-2012         3001         5001\n",
       "7    70010    1983.43  10-10-2012         3001         5006\n",
       "4    70007     948.50  10-09-2012         3005         5002\n",
       "0    70001        NaN  05-10-2012         3001         5002\n",
       "1    70009        NaN  09-10-2012         3001         5005\n",
       "2    70002        NaN  05-10-2012         3005         5001\n",
       "3    70004        NaN  06-10-2012         3001         5003\n",
       "9    70012        NaN  17-06-2012         3001         5002\n",
       "10   70011        NaN  07-08-2012         3005         5007"
      ]
     },
     "execution_count": 140,
     "metadata": {},
     "output_type": "execute_result"
    }
   ],
   "source": [
    "# 3- Afficher le dataframe trié par purch_amt (de manière décroissante),\n",
    "def tri (df,column):\n",
    "    df['purch_amt'].loc[df['purch_amt'] < 300]=np.nan\n",
    "    return df.sort_values(by= [column],ascending = False)\n",
    "tri(data,'purch_amt')\n"
   ]
  },
  {
   "cell_type": "code",
   "execution_count": 133,
   "metadata": {},
   "outputs": [
    {
     "name": "stdout",
     "output_type": "stream",
     "text": [
      "    ord_no  purch_amt    ord_date  customer_id  salesman_id\n",
      "0    70001     150.50  05-10-2012         3001         5002\n",
      "1    70009     270.65  09-10-2012         3001         5005\n",
      "2    70002      65.26  05-10-2012         3005         5001\n",
      "3    70004     110.50  06-10-2012         3001         5003\n",
      "9    70012     250.45  17-06-2012         3001         5002\n",
      "10   70011      75.29  07-08-2012         3005         5007\n"
     ]
    }
   ],
   "source": [
    "print(data.loc[data['purch_amt'] < 300])"
   ]
  },
  {
   "cell_type": "code",
   "execution_count": null,
   "metadata": {},
   "outputs": [],
   "source": []
  }
 ],
 "metadata": {
  "kernelspec": {
   "display_name": "Python 3",
   "language": "python",
   "name": "python3"
  },
  "language_info": {
   "codemirror_mode": {
    "name": "ipython",
    "version": 3
   },
   "file_extension": ".py",
   "mimetype": "text/x-python",
   "name": "python",
   "nbconvert_exporter": "python",
   "pygments_lexer": "ipython3",
   "version": "3.8.6"
  }
 },
 "nbformat": 4,
 "nbformat_minor": 4
}
