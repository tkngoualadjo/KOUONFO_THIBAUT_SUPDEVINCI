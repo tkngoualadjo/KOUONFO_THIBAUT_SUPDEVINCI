{
 "cells": [
  {
   "cell_type": "code",
   "execution_count": null,
   "metadata": {
    "id": "m8_W6JkGk67h"
   },
   "outputs": [],
   "source": [
    "#Custom functions\n",
    "\n",
    "def Treatment_1(name):\n",
    "    global ID\n",
    "    df = pd.read_csv(name, sep=\";\", header=None)\n",
    "    df.columns = df.iloc[0, :].tolist()\n",
    "    df = df.drop(0, axis = 0).reset_index(drop = True)\n",
    "    ID = df.id\n",
    "    df = df.drop('id', axis =  1)\n",
    "    return df\n",
    "\n",
    "def Treatment_2(df):\n",
    "    lb_make = LabelEncoder()      #Let's transform our string categorical data to numeric categorical data !    \n",
    "    label_list = df.columns[5:7].tolist()\n",
    "    wa = df.columns[7]\n",
    "    numeric_list = df.columns[~df.columns.isin(df.columns[5:8])].tolist()\n",
    "    for x in df.columns: \n",
    "        for w in df.index:\n",
    "            if x in numeric_list:\n",
    "                if df[x][w] == 'unknown':\n",
    "                    df[x][w] = 0\n",
    "            elif x in wa:\n",
    "                df[x][w] = df[x][w][0]\n",
    "            elif x in label_list:\n",
    "                df[str(x)+'_encoded'] = lb_make.fit_transform(df[x])\n",
    "    if 'market_share' in df.columns.tolist():\n",
    "        df = df.drop('market_share', axis = 1)\n",
    "    df = df.drop(label_list, axis = 1)\n",
    "    for x in df.columns:\n",
    "        df[x] = df[x].astype(float)    \n",
    "    return df\n",
    "\n",
    "#Improve this treatment :)\n",
    "def Treatment_3(df):\n",
    "    for x, y in zip(df.prod_cost, df.index):\n",
    "        rep = math.isnan(df.prod_cost[y])\n",
    "        if rep == True or x == 0 or x < 0:\n",
    "            df['prod_cost'][y] = df['prod_cost'].mean()\n",
    "    return df\n",
    "\n",
    "#Files    \n",
    "name_1 = 'mower_market_snapshot.csv'"
   ]
  }
 ],
 "metadata": {
  "colab": {
   "name": "correction_preprocessing_mower",
   "provenance": []
  },
  "kernelspec": {
   "display_name": "Python 3",
   "name": "python3"
  }
 },
 "nbformat": 4,
 "nbformat_minor": 0
}
